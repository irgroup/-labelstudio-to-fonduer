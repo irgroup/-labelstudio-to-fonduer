{
 "cells": [
  {
   "cell_type": "code",
   "execution_count": 1,
   "metadata": {},
   "outputs": [],
   "source": [
    "from label_studio_sdk import Client"
   ]
  },
  {
   "cell_type": "code",
   "execution_count": 4,
   "metadata": {},
   "outputs": [],
   "source": [
    "LABEL_STUDIO_URL = 'http://<ls_ip>:<ls_port>'\n",
    "API_KEY = 'secret token'\n",
    "\n",
    "PROJECT_NAME = \"your project name\""
   ]
  },
  {
   "cell_type": "code",
   "execution_count": 5,
   "metadata": {},
   "outputs": [
    {
     "data": {
      "text/plain": [
       "{'status': 'UP'}"
      ]
     },
     "execution_count": 5,
     "metadata": {},
     "output_type": "execute_result"
    }
   ],
   "source": [
    "ls = Client(url=LABEL_STUDIO_URL, api_key=API_KEY)\n",
    "ls.check_connection()"
   ]
  },
  {
   "cell_type": "markdown",
   "metadata": {},
   "source": [
    "### Create Project\n",
    "Create a project with the template"
   ]
  },
  {
   "cell_type": "code",
   "execution_count": 6,
   "metadata": {},
   "outputs": [],
   "source": [
    "from LabelstudioToFonduer.utils import create_ls_project\n",
    "\n",
    "my_project = create_ls_project(ls, PROJECT_NAME)"
   ]
  },
  {
   "cell_type": "markdown",
   "metadata": {},
   "source": [
    "### Get the project by name\n"
   ]
  },
  {
   "cell_type": "code",
   "execution_count": 6,
   "metadata": {},
   "outputs": [],
   "source": [
    "from LabelstudioToFonduer.utils import get_project_by_name\n",
    "\n",
    "my_project = get_project_by_name(PROJECT_NAME, ls)"
   ]
  },
  {
   "cell_type": "markdown",
   "metadata": {},
   "source": [
    "### Import data\n",
    "Please make sure you have specified the `$LABEL_STUDIO_BASE_DATA_DIR=/label-studio/data`"
   ]
  },
  {
   "cell_type": "code",
   "execution_count": 7,
   "metadata": {},
   "outputs": [],
   "source": [
    "import os\n",
    "\n",
    "RAW_DATA_DIR = os.path.join(\"data\", \"SWDE_Dataset\", \"webpages\", \"job\")\n",
    "HTML_DATA_DIR = os.path.join(\"data\", \"html\")\n",
    "LS_DATA_DIR = os.path.join(\"app-data\")"
   ]
  },
  {
   "cell_type": "code",
   "execution_count": 9,
   "metadata": {},
   "outputs": [
    {
     "name": "stdout",
     "output_type": "stream",
     "text": [
      "Created dir for project BiggerTest\n",
      "Please regisrer local storage in LS UI: \n",
      "    1. Go to: Projects/BiggerTest/Settings/Clud Storage\n",
      "    2. Select `Add Source Storage`\n",
      "    3. Choose `Local files` as Storage Type and `BiggerTest` as storage title.\n",
      "    4. Paste `/label-studio/data/BiggerTest` as Absolute local path\n"
     ]
    }
   ],
   "source": [
    "from LabelstudioToFonduer.utils import create_ls_data_dir\n",
    "\n",
    "my_project_data_dir = create_ls_data_dir(LS_DATA_DIR, PROJECT_NAME)"
   ]
  },
  {
   "cell_type": "code",
   "execution_count": 16,
   "metadata": {},
   "outputs": [],
   "source": [
    "from LabelstudioToFonduer.utils import import_data_to_ls\n",
    "\n",
    "import_data_to_ls(my_project, my_project_data_dir, RAW_DATA_DIR, HTML_DATA_DIR, recursive=True, k=1)"
   ]
  }
 ],
 "metadata": {
  "interpreter": {
   "hash": "949777d72b0d2535278d3dc13498b2535136f6dfe0678499012e853ee9abcab1"
  },
  "kernelspec": {
   "display_name": "Python 3 (ipykernel)",
   "language": "python",
   "name": "python3"
  },
  "language_info": {
   "codemirror_mode": {
    "name": "ipython",
    "version": 3
   },
   "file_extension": ".py",
   "mimetype": "text/x-python",
   "name": "python",
   "nbconvert_exporter": "python",
   "pygments_lexer": "ipython3",
   "version": "3.7.13"
  },
  "orig_nbformat": 4
 },
 "nbformat": 4,
 "nbformat_minor": 2
}
